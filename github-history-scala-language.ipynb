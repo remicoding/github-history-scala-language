{
 "cells": [
  {
   "cell_type": "markdown",
   "id": "511c1fc5-8086-4034-be79-eabb7fbfab76",
   "metadata": {},
   "source": [
    "# Github History of the Scala Language"
   ]
  },
  {
   "cell_type": "markdown",
   "id": "99655375-17ff-486d-a0a8-460db982901f",
   "metadata": {},
   "source": [
    "**Goal**: The goal of this project is to apply data manipulation in Pandas and visualization with Matplotlib skills.\n",
    "\n",
    "**Skills**: Python, Pandas, Matplotlib\n",
    "\n",
    "**Problem**: Analyze and find insights from the project repository of Scala."
   ]
  },
  {
   "cell_type": "markdown",
   "id": "5a61ced6-b958-4a1d-a216-eef159622c8d",
   "metadata": {},
   "source": [
    "## Import Modules"
   ]
  },
  {
   "cell_type": "code",
   "execution_count": 1,
   "id": "13e91156-2c21-40e8-8982-037adb1a41fb",
   "metadata": {},
   "outputs": [],
   "source": [
    "# Install requirement before importing modules (uncomment the line below)\n",
    "# !pip install -r requirements.txt\n",
    "\n",
    "# Import numpy\n",
    "import numpy as np\n",
    "\n",
    "# Import pandas\n",
    "import pandas as pd\n",
    "\n",
    "# Import matplotlib\n",
    "import matplotlib.pyplot as plt\n",
    "\n",
    "# Set the plot style to fivethirtyeight\n",
    "plt.style.use(\"fivethirtyeight\")\n",
    "\n",
    "# Set matplotlib inline to show plot directly\n",
    "%matplotlib inline"
   ]
  },
  {
   "cell_type": "markdown",
   "id": "4492610f-a35e-4496-99e0-65bd352b6825",
   "metadata": {},
   "source": [
    "## Helper Functions"
   ]
  },
  {
   "cell_type": "code",
   "execution_count": 2,
   "id": "9179d93a-87ab-4e3f-ab90-95484dec6155",
   "metadata": {},
   "outputs": [],
   "source": [
    "def plot_pull_requests(df, authors):\n",
    "    x = np.arange(len(df.index))  # the label locations\n",
    "    width = 0.35  # the width of the bars\n",
    "\n",
    "    fig, ax = plt.subplots(figsize=(8, 6))\n",
    "    rects1 = ax.bar(x - width/2, df[authors[0]], width, label=authors[0])\n",
    "    rects2 = ax.bar(x + width/2, df[authors[1]], width, label=authors[1])\n",
    "\n",
    "    # Add some text for labels, title and custom x-axis tick labels, etc.\n",
    "    ax.set_xlabel(\"Date (Year)\")\n",
    "    ax.set_ylabel(\"Number of Pull Requests\")\n",
    "    ax.set_title(f\"Number of Pull Requests by '{authors[0]}' and '{authors[1]}' over Years\")\n",
    "    ax.set_xticklabels([str(ind) for ind in list(df.index)], rotation=90)\n",
    "    ax.legend(title=df.columns.name)\n",
    "\n",
    "    fig.tight_layout;"
   ]
  },
  {
   "cell_type": "markdown",
   "id": "4189a29e-ef96-454d-a15a-f3e5d9ffe7af",
   "metadata": {},
   "source": [
    "## Load in and save (if necessary) the datasets"
   ]
  },
  {
   "cell_type": "code",
   "execution_count": 3,
   "id": "c082e508-8018-46ff-8f79-bd697c6e3869",
   "metadata": {},
   "outputs": [],
   "source": [
    "# Load in user pull requests\n",
    "pulls_url = \"https://raw.githubusercontent.com/Andy-Nkumane/The-GitHub-History-of-the-Scala-Language/master/datasets/pulls.csv\"\n",
    "pulls = pd.read_csv(pulls_url, parse_dates=[2])"
   ]
  },
  {
   "cell_type": "code",
   "execution_count": 4,
   "id": "b54ff147-0457-4647-92cb-3200b7e9d80c",
   "metadata": {},
   "outputs": [],
   "source": [
    "# Load in files changed by pull requests\n",
    "pull_files_url = \"https://raw.githubusercontent.com/Andy-Nkumane/The-GitHub-History-of-the-Scala-Language/master/datasets/pull_files.csv\"\n",
    "pull_files = pd.read_csv(pull_files_url)"
   ]
  },
  {
   "cell_type": "code",
   "execution_count": 5,
   "id": "984b7aa4-d023-491c-96f1-9032b34a36fc",
   "metadata": {},
   "outputs": [
    {
     "data": {
      "text/html": [
       "<div>\n",
       "<style scoped>\n",
       "    .dataframe tbody tr th:only-of-type {\n",
       "        vertical-align: middle;\n",
       "    }\n",
       "\n",
       "    .dataframe tbody tr th {\n",
       "        vertical-align: top;\n",
       "    }\n",
       "\n",
       "    .dataframe thead th {\n",
       "        text-align: right;\n",
       "    }\n",
       "</style>\n",
       "<table border=\"1\" class=\"dataframe\">\n",
       "  <thead>\n",
       "    <tr style=\"text-align: right;\">\n",
       "      <th></th>\n",
       "      <th>pid</th>\n",
       "      <th>user</th>\n",
       "      <th>date</th>\n",
       "    </tr>\n",
       "  </thead>\n",
       "  <tbody>\n",
       "    <tr>\n",
       "      <th>0</th>\n",
       "      <td>163314316</td>\n",
       "      <td>hrhino</td>\n",
       "      <td>2018-01-16 23:29:16+00:00</td>\n",
       "    </tr>\n",
       "    <tr>\n",
       "      <th>1</th>\n",
       "      <td>163061502</td>\n",
       "      <td>joroKr21</td>\n",
       "      <td>2018-01-15 23:44:52+00:00</td>\n",
       "    </tr>\n",
       "    <tr>\n",
       "      <th>2</th>\n",
       "      <td>163057333</td>\n",
       "      <td>mkeskells</td>\n",
       "      <td>2018-01-15 23:05:06+00:00</td>\n",
       "    </tr>\n",
       "    <tr>\n",
       "      <th>3</th>\n",
       "      <td>162985594</td>\n",
       "      <td>lrytz</td>\n",
       "      <td>2018-01-15 15:52:39+00:00</td>\n",
       "    </tr>\n",
       "    <tr>\n",
       "      <th>4</th>\n",
       "      <td>162838837</td>\n",
       "      <td>zuvizudar</td>\n",
       "      <td>2018-01-14 19:16:16+00:00</td>\n",
       "    </tr>\n",
       "  </tbody>\n",
       "</table>\n",
       "</div>"
      ],
      "text/plain": [
       "         pid       user                      date\n",
       "0  163314316     hrhino 2018-01-16 23:29:16+00:00\n",
       "1  163061502   joroKr21 2018-01-15 23:44:52+00:00\n",
       "2  163057333  mkeskells 2018-01-15 23:05:06+00:00\n",
       "3  162985594      lrytz 2018-01-15 15:52:39+00:00\n",
       "4  162838837  zuvizudar 2018-01-14 19:16:16+00:00"
      ]
     },
     "execution_count": 5,
     "metadata": {},
     "output_type": "execute_result"
    }
   ],
   "source": [
    "# Print the first five rows of the pulls DataFrame\n",
    "pulls.head()"
   ]
  },
  {
   "cell_type": "code",
   "execution_count": 6,
   "id": "dbef49a3-7d44-4e28-a510-9a1854bd390b",
   "metadata": {},
   "outputs": [
    {
     "data": {
      "text/html": [
       "<div>\n",
       "<style scoped>\n",
       "    .dataframe tbody tr th:only-of-type {\n",
       "        vertical-align: middle;\n",
       "    }\n",
       "\n",
       "    .dataframe tbody tr th {\n",
       "        vertical-align: top;\n",
       "    }\n",
       "\n",
       "    .dataframe thead th {\n",
       "        text-align: right;\n",
       "    }\n",
       "</style>\n",
       "<table border=\"1\" class=\"dataframe\">\n",
       "  <thead>\n",
       "    <tr style=\"text-align: right;\">\n",
       "      <th></th>\n",
       "      <th>pid</th>\n",
       "      <th>file</th>\n",
       "    </tr>\n",
       "  </thead>\n",
       "  <tbody>\n",
       "    <tr>\n",
       "      <th>0</th>\n",
       "      <td>163314316</td>\n",
       "      <td>test/files/pos/t5638/Among.java</td>\n",
       "    </tr>\n",
       "    <tr>\n",
       "      <th>1</th>\n",
       "      <td>163314316</td>\n",
       "      <td>test/files/pos/t5638/Usage.scala</td>\n",
       "    </tr>\n",
       "    <tr>\n",
       "      <th>2</th>\n",
       "      <td>163314316</td>\n",
       "      <td>test/files/pos/t9291.scala</td>\n",
       "    </tr>\n",
       "    <tr>\n",
       "      <th>3</th>\n",
       "      <td>163314316</td>\n",
       "      <td>test/files/run/t8348.check</td>\n",
       "    </tr>\n",
       "    <tr>\n",
       "      <th>4</th>\n",
       "      <td>163314316</td>\n",
       "      <td>test/files/run/t8348/TableColumn.java</td>\n",
       "    </tr>\n",
       "  </tbody>\n",
       "</table>\n",
       "</div>"
      ],
      "text/plain": [
       "         pid                                   file\n",
       "0  163314316        test/files/pos/t5638/Among.java\n",
       "1  163314316       test/files/pos/t5638/Usage.scala\n",
       "2  163314316             test/files/pos/t9291.scala\n",
       "3  163314316             test/files/run/t8348.check\n",
       "4  163314316  test/files/run/t8348/TableColumn.java"
      ]
     },
     "execution_count": 6,
     "metadata": {},
     "output_type": "execute_result"
    }
   ],
   "source": [
    "# Print the first five rows of the pull_files DataFrame\n",
    "pull_files.head()"
   ]
  },
  {
   "cell_type": "code",
   "execution_count": 7,
   "id": "182b353b-baf4-48af-9b00-4de2f09eb3b5",
   "metadata": {},
   "outputs": [],
   "source": [
    "# Save both dataframes as data\n",
    "pulls.to_csv(\"datasets/pulls.csv\")\n",
    "pull_files.to_csv(\"datasets/pull_files.csv\")"
   ]
  },
  {
   "cell_type": "markdown",
   "id": "e32a70e8-e979-4757-8218-dcc378d21daf",
   "metadata": {},
   "source": [
    "## Merging the DataFrames"
   ]
  },
  {
   "cell_type": "code",
   "execution_count": 8,
   "id": "d8686388-5719-4686-9efa-d83386c45eca",
   "metadata": {},
   "outputs": [],
   "source": [
    "# Merge the two DataFrames\n",
    "data = pulls.merge(pull_files, on=\"pid\")"
   ]
  },
  {
   "cell_type": "code",
   "execution_count": 9,
   "id": "06aeb04d-0c5d-47d8-9363-bdedbdff7003",
   "metadata": {},
   "outputs": [
    {
     "data": {
      "text/html": [
       "<div>\n",
       "<style scoped>\n",
       "    .dataframe tbody tr th:only-of-type {\n",
       "        vertical-align: middle;\n",
       "    }\n",
       "\n",
       "    .dataframe tbody tr th {\n",
       "        vertical-align: top;\n",
       "    }\n",
       "\n",
       "    .dataframe thead th {\n",
       "        text-align: right;\n",
       "    }\n",
       "</style>\n",
       "<table border=\"1\" class=\"dataframe\">\n",
       "  <thead>\n",
       "    <tr style=\"text-align: right;\">\n",
       "      <th></th>\n",
       "      <th>pid</th>\n",
       "      <th>user</th>\n",
       "      <th>date</th>\n",
       "      <th>file</th>\n",
       "    </tr>\n",
       "  </thead>\n",
       "  <tbody>\n",
       "    <tr>\n",
       "      <th>0</th>\n",
       "      <td>163314316</td>\n",
       "      <td>hrhino</td>\n",
       "      <td>2018-01-16 23:29:16+00:00</td>\n",
       "      <td>test/files/pos/t5638/Among.java</td>\n",
       "    </tr>\n",
       "    <tr>\n",
       "      <th>1</th>\n",
       "      <td>163314316</td>\n",
       "      <td>hrhino</td>\n",
       "      <td>2018-01-16 23:29:16+00:00</td>\n",
       "      <td>test/files/pos/t5638/Usage.scala</td>\n",
       "    </tr>\n",
       "    <tr>\n",
       "      <th>2</th>\n",
       "      <td>163314316</td>\n",
       "      <td>hrhino</td>\n",
       "      <td>2018-01-16 23:29:16+00:00</td>\n",
       "      <td>test/files/pos/t9291.scala</td>\n",
       "    </tr>\n",
       "    <tr>\n",
       "      <th>3</th>\n",
       "      <td>163314316</td>\n",
       "      <td>hrhino</td>\n",
       "      <td>2018-01-16 23:29:16+00:00</td>\n",
       "      <td>test/files/run/t8348.check</td>\n",
       "    </tr>\n",
       "    <tr>\n",
       "      <th>4</th>\n",
       "      <td>163314316</td>\n",
       "      <td>hrhino</td>\n",
       "      <td>2018-01-16 23:29:16+00:00</td>\n",
       "      <td>test/files/run/t8348/TableColumn.java</td>\n",
       "    </tr>\n",
       "  </tbody>\n",
       "</table>\n",
       "</div>"
      ],
      "text/plain": [
       "         pid    user                      date  \\\n",
       "0  163314316  hrhino 2018-01-16 23:29:16+00:00   \n",
       "1  163314316  hrhino 2018-01-16 23:29:16+00:00   \n",
       "2  163314316  hrhino 2018-01-16 23:29:16+00:00   \n",
       "3  163314316  hrhino 2018-01-16 23:29:16+00:00   \n",
       "4  163314316  hrhino 2018-01-16 23:29:16+00:00   \n",
       "\n",
       "                                    file  \n",
       "0        test/files/pos/t5638/Among.java  \n",
       "1       test/files/pos/t5638/Usage.scala  \n",
       "2             test/files/pos/t9291.scala  \n",
       "3             test/files/run/t8348.check  \n",
       "4  test/files/run/t8348/TableColumn.java  "
      ]
     },
     "execution_count": 9,
     "metadata": {},
     "output_type": "execute_result"
    }
   ],
   "source": [
    "# Print the first five rows of data DataFrame\n",
    "data.head()"
   ]
  },
  {
   "cell_type": "markdown",
   "id": "8e6a707b-70fd-435a-a986-21d4fbe956f9",
   "metadata": {},
   "source": [
    "## Is the project still actively maintained?"
   ]
  },
  {
   "cell_type": "code",
   "execution_count": 10,
   "id": "bf6bd625-ab9d-4a60-a6f6-2032701f72ba",
   "metadata": {},
   "outputs": [],
   "source": [
    "# Create a column that will store the month\n",
    "data['month'] = data.date.dt.month\n",
    "\n",
    "# Create a column that will store the year\n",
    "data['year'] = data.date.dt.year"
   ]
  },
  {
   "cell_type": "code",
   "execution_count": 11,
   "id": "a52a7ec5-9e25-4786-b494-eb769dbe60ed",
   "metadata": {},
   "outputs": [
    {
     "data": {
      "text/html": [
       "<div>\n",
       "<style scoped>\n",
       "    .dataframe tbody tr th:only-of-type {\n",
       "        vertical-align: middle;\n",
       "    }\n",
       "\n",
       "    .dataframe tbody tr th {\n",
       "        vertical-align: top;\n",
       "    }\n",
       "\n",
       "    .dataframe thead th {\n",
       "        text-align: right;\n",
       "    }\n",
       "</style>\n",
       "<table border=\"1\" class=\"dataframe\">\n",
       "  <thead>\n",
       "    <tr style=\"text-align: right;\">\n",
       "      <th></th>\n",
       "      <th>pid</th>\n",
       "      <th>user</th>\n",
       "      <th>date</th>\n",
       "      <th>file</th>\n",
       "      <th>month</th>\n",
       "      <th>year</th>\n",
       "    </tr>\n",
       "  </thead>\n",
       "  <tbody>\n",
       "    <tr>\n",
       "      <th>0</th>\n",
       "      <td>163314316</td>\n",
       "      <td>hrhino</td>\n",
       "      <td>2018-01-16 23:29:16+00:00</td>\n",
       "      <td>test/files/pos/t5638/Among.java</td>\n",
       "      <td>1</td>\n",
       "      <td>2018</td>\n",
       "    </tr>\n",
       "    <tr>\n",
       "      <th>1</th>\n",
       "      <td>163314316</td>\n",
       "      <td>hrhino</td>\n",
       "      <td>2018-01-16 23:29:16+00:00</td>\n",
       "      <td>test/files/pos/t5638/Usage.scala</td>\n",
       "      <td>1</td>\n",
       "      <td>2018</td>\n",
       "    </tr>\n",
       "    <tr>\n",
       "      <th>2</th>\n",
       "      <td>163314316</td>\n",
       "      <td>hrhino</td>\n",
       "      <td>2018-01-16 23:29:16+00:00</td>\n",
       "      <td>test/files/pos/t9291.scala</td>\n",
       "      <td>1</td>\n",
       "      <td>2018</td>\n",
       "    </tr>\n",
       "    <tr>\n",
       "      <th>3</th>\n",
       "      <td>163314316</td>\n",
       "      <td>hrhino</td>\n",
       "      <td>2018-01-16 23:29:16+00:00</td>\n",
       "      <td>test/files/run/t8348.check</td>\n",
       "      <td>1</td>\n",
       "      <td>2018</td>\n",
       "    </tr>\n",
       "    <tr>\n",
       "      <th>4</th>\n",
       "      <td>163314316</td>\n",
       "      <td>hrhino</td>\n",
       "      <td>2018-01-16 23:29:16+00:00</td>\n",
       "      <td>test/files/run/t8348/TableColumn.java</td>\n",
       "      <td>1</td>\n",
       "      <td>2018</td>\n",
       "    </tr>\n",
       "  </tbody>\n",
       "</table>\n",
       "</div>"
      ],
      "text/plain": [
       "         pid    user                      date  \\\n",
       "0  163314316  hrhino 2018-01-16 23:29:16+00:00   \n",
       "1  163314316  hrhino 2018-01-16 23:29:16+00:00   \n",
       "2  163314316  hrhino 2018-01-16 23:29:16+00:00   \n",
       "3  163314316  hrhino 2018-01-16 23:29:16+00:00   \n",
       "4  163314316  hrhino 2018-01-16 23:29:16+00:00   \n",
       "\n",
       "                                    file  month  year  \n",
       "0        test/files/pos/t5638/Among.java      1  2018  \n",
       "1       test/files/pos/t5638/Usage.scala      1  2018  \n",
       "2             test/files/pos/t9291.scala      1  2018  \n",
       "3             test/files/run/t8348.check      1  2018  \n",
       "4  test/files/run/t8348/TableColumn.java      1  2018  "
      ]
     },
     "execution_count": 11,
     "metadata": {},
     "output_type": "execute_result"
    }
   ],
   "source": [
    "# Print the first five rows of updated data DataFrame\n",
    "data.head()"
   ]
  },
  {
   "cell_type": "code",
   "execution_count": 12,
   "id": "cba3707e-4566-4334-8809-07ae1b8d1a8a",
   "metadata": {},
   "outputs": [],
   "source": [
    "# Group by the month and year and count the pull requests\n",
    "counts = data.groupby(by=[\"year\", \"month\"])[\"pid\"].count()"
   ]
  },
  {
   "cell_type": "code",
   "execution_count": 13,
   "id": "fe63dfbf-3fac-49e9-9e93-c35f15e17c2d",
   "metadata": {},
   "outputs": [],
   "source": [
    "# Create index values to be used in the plot\n",
    "x = [str(ind) for ind in list(counts.index)]"
   ]
  },
  {
   "cell_type": "code",
   "execution_count": 14,
   "id": "3e808531-3bc9-4169-9f7b-3461eeea9b7e",
   "metadata": {},
   "outputs": [
    {
     "name": "stderr",
     "output_type": "stream",
     "text": [
      "/var/folders/6y/8tyffygj5nd1h5xxqrc4f7tc0000gp/T/ipykernel_83944/857003042.py:4: UserWarning: FixedFormatter should only be used together with FixedLocator\n",
      "  ax.set_xticklabels(x, rotation=90)\n"
     ]
    },
    {
     "data": {
      "image/png": "[encoded data removed]",
      "text/plain": [
       "<Figure size 864x432 with 1 Axes>"
      ]
     },
     "metadata": {
      "needs_background": "light"
     },
     "output_type": "display_data"
    }
   ],
   "source": [
    "# Plot the results\n",
    "fig, ax = plt.subplots(figsize=(12, 6))\n",
    "ax.bar(x, counts.values)\n",
    "ax.set_xticklabels(x, rotation=90)\n",
    "ax.set_xlabel(\"Date (Year, Month)\")\n",
    "ax.set_ylabel(\"Number of Pull Requests\")\n",
    "ax.set_title(\"Total Pulls Requests\");"
   ]
  },
  {
   "cell_type": "markdown",
   "id": "0556e69d-5040-40b0-9732-9b84656219eb",
   "metadata": {},
   "source": [
    "## Is there camaraderie in the project?"
   ]
  },
  {
   "cell_type": "code",
   "execution_count": 15,
   "id": "cda72d99-9301-4b29-80a3-a806239a9796",
   "metadata": {},
   "outputs": [],
   "source": [
    "# Group by the submitter\n",
    "by_user = data.groupby(by=[\"user\"])[\"pid\"].count()"
   ]
  },
  {
   "cell_type": "code",
   "execution_count": 16,
   "id": "2fa9c020-1b80-4521-89d0-2aef6226cb0a",
   "metadata": {},
   "outputs": [
    {
     "data": {
      "image/png": "[encoded data removed]",
      "text/plain": [
       "<Figure size 576x432 with 1 Axes>"
      ]
     },
     "metadata": {
      "needs_background": "light"
     },
     "output_type": "display_data"
    }
   ],
   "source": [
    "# Plot the histogram\n",
    "fig, ax = plt.subplots(figsize=(8, 6))\n",
    "ax.hist(by_user.values)\n",
    "ax.set_xlabel(\"Number of Pull Requests by User\")\n",
    "ax.set_ylabel(\"Frequency\")\n",
    "ax.set_title(\"Histogram of the Number of Pull Requests by User\");"
   ]
  },
  {
   "cell_type": "markdown",
   "id": "a40b1e35-04ee-458c-ab98-3020cf3e6756",
   "metadata": {},
   "source": [
    "## What files were changed in the last ten pull requests?"
   ]
  },
  {
   "cell_type": "code",
   "execution_count": 17,
   "id": "beac0fe6-2637-46f2-8201-a8f05dfac918",
   "metadata": {},
   "outputs": [],
   "source": [
    "# Identify the last 10 pull requests\n",
    "last_10 = pulls.nlargest(10, \"date\")"
   ]
  },
  {
   "cell_type": "code",
   "execution_count": 18,
   "id": "56cb3d7f-d8d4-4a16-a775-c565731fbbb8",
   "metadata": {},
   "outputs": [],
   "source": [
    "# Join the two data sets\n",
    "joined_pr = last_10.merge(right=pull_files, on=\"pid\")"
   ]
  },
  {
   "cell_type": "code",
   "execution_count": 19,
   "id": "36c1ebe2-f205-4125-ba8e-c616bef6e923",
   "metadata": {},
   "outputs": [],
   "source": [
    "# Identify the unique files\n",
    "files = joined_pr.file.unique"
   ]
  },
  {
   "cell_type": "code",
   "execution_count": 20,
   "id": "c98f07bc-cc1d-4180-ae1f-2f1bd5c1a422",
   "metadata": {},
   "outputs": [
    {
     "data": {
      "text/plain": [
       "<bound method Series.unique of 0                       test/files/pos/t5638/Among.java\n",
       "1                      test/files/pos/t5638/Usage.scala\n",
       "2                            test/files/pos/t9291.scala\n",
       "3                            test/files/run/t8348.check\n",
       "4                 test/files/run/t8348/TableColumn.java\n",
       "5             test/files/run/t8348/TableColumnImpl.java\n",
       "6                       test/files/run/t8348/Test.scala\n",
       "7               src/library/scala/concurrent/Lock.scala\n",
       "8     src/compiler/scala/tools/nsc/profile/AsyncHelp...\n",
       "9     src/compiler/scala/tools/nsc/profile/Profiler....\n",
       "10    src/compiler/scala/tools/nsc/backend/jvm/BCode...\n",
       "11    src/compiler/scala/tools/nsc/symtab/classfile/...\n",
       "12    src/reflect/scala/reflect/internal/pickling/By...\n",
       "13    src/compiler/scala/reflect/reify/phases/Calcul...\n",
       "14                       src/library/scala/Predef.scala\n",
       "15                  test/files/neg/leibniz-liskov.check\n",
       "16                  test/files/neg/leibniz-liskov.scala\n",
       "17                  test/files/pos/leibniz-liskov.scala\n",
       "18                  test/files/pos/leibniz_liskov.scala\n",
       "19    src/compiler/scala/tools/nsc/typechecker/Conte...\n",
       "20            test/files/pos/parallel-classloader.scala\n",
       "21                 test/files/pos/t10568/Converter.java\n",
       "22                     test/files/pos/t10568/Impl.scala\n",
       "23    src/compiler/scala/tools/nsc/backend/jvm/PostP...\n",
       "24    src/compiler/scala/tools/nsc/backend/jvm/analy...\n",
       "25                                              LICENSE\n",
       "26                                       doc/LICENSE.md\n",
       "27                                      doc/License.rtf\n",
       "28                            project/VersionUtil.scala\n",
       "29              src/library/scala/util/Properties.scala\n",
       "30    src/scaladoc/scala/tools/nsc/doc/html/page/Ent...\n",
       "31                        src/scalap/decoder.properties\n",
       "32    src/reflect/scala/reflect/internal/tpe/GlbLubs...\n",
       "33                          test/files/pos/t10686.scala\n",
       "Name: file, dtype: object>"
      ]
     },
     "execution_count": 20,
     "metadata": {},
     "output_type": "execute_result"
    }
   ],
   "source": [
    "# Print the results\n",
    "files"
   ]
  },
  {
   "cell_type": "markdown",
   "id": "93da456f-da39-44f2-b457-9302ab0e58d9",
   "metadata": {},
   "source": [
    "## Who made the most pull requests to a given file?"
   ]
  },
  {
   "cell_type": "code",
   "execution_count": 21,
   "id": "d36f61c0-08b4-46ea-9610-8f8043514faf",
   "metadata": {},
   "outputs": [],
   "source": [
    "# This is the file we are interested in:\n",
    "file = 'src/compiler/scala/reflect/reify/phases/Calculate.scala'"
   ]
  },
  {
   "cell_type": "code",
   "execution_count": 22,
   "id": "19633af8-92e2-4493-9611-9d3c4c665ba4",
   "metadata": {},
   "outputs": [],
   "source": [
    "# Identify the commits that changed the file\n",
    "file_pr = data[data[\"file\"] == file]"
   ]
  },
  {
   "cell_type": "code",
   "execution_count": 23,
   "id": "56ced400-175f-4ac1-a997-2163d2f254a5",
   "metadata": {},
   "outputs": [],
   "source": [
    "# Count the number of changes made by each developer\n",
    "author_counts = file_pr.groupby(by=[\"user\"])[\"pid\"].count()"
   ]
  },
  {
   "cell_type": "code",
   "execution_count": 24,
   "id": "81398fb3-2b95-478b-9ff8-d089a0febfdf",
   "metadata": {},
   "outputs": [
    {
     "name": "stdout",
     "output_type": "stream",
     "text": [
      "user\n",
      "xeno-by     11\n",
      "retronym     5\n",
      "soc          4\n",
      "Name: pid, dtype: int64\n"
     ]
    }
   ],
   "source": [
    "# Print the top 3 developers\n",
    "print(author_counts.nlargest(3))"
   ]
  },
  {
   "cell_type": "markdown",
   "id": "f57243d5-60fb-4d51-b4d4-d179b38d7f41",
   "metadata": {},
   "source": [
    "## Who made the last pull requests on a given file?"
   ]
  },
  {
   "cell_type": "code",
   "execution_count": 25,
   "id": "9e332a0d-4d6d-4ffe-9607-6e59b18c6574",
   "metadata": {},
   "outputs": [],
   "source": [
    "# Select the pull requests that changed the target file\n",
    "file_pr = pull_files[pull_files[\"file\"] == file]"
   ]
  },
  {
   "cell_type": "code",
   "execution_count": 26,
   "id": "dd9307e0-af06-462d-b8b8-f7a39d9d15d0",
   "metadata": {},
   "outputs": [],
   "source": [
    "# Merge the obtained results with the pulls DataFrame\n",
    "joined_pr = file_pr.merge(right=pulls, on=\"pid\")"
   ]
  },
  {
   "cell_type": "code",
   "execution_count": 27,
   "id": "a6bbb6ee-2755-4914-9f9f-0ee653c49f29",
   "metadata": {},
   "outputs": [],
   "source": [
    "# Find the users of the last 10 most recent pull requests\n",
    "users_last_10 = set(joined_pr.nlargest(n=10, columns=\"date\")[\"user\"])"
   ]
  },
  {
   "cell_type": "code",
   "execution_count": 28,
   "id": "b0361913-2a7f-4dde-b905-d636c30f8c24",
   "metadata": {},
   "outputs": [
    {
     "data": {
      "text/plain": [
       "{'bjornregnell', 'retronym', 'soc', 'starblood', 'xeno-by', 'zuvizudar'}"
      ]
     },
     "execution_count": 28,
     "metadata": {},
     "output_type": "execute_result"
    }
   ],
   "source": [
    "# Printing the results\n",
    "users_last_10"
   ]
  },
  {
   "cell_type": "markdown",
   "id": "3c3069a8-9ff9-493d-b92f-99724279ff39",
   "metadata": {},
   "source": [
    "## The pull requests of two special developers"
   ]
  },
  {
   "cell_type": "code",
   "execution_count": 29,
   "id": "3d807bf9-3abf-4d62-81b3-93f67069c2b5",
   "metadata": {},
   "outputs": [],
   "source": [
    "# The developers we are interested in\n",
    "authors = ['xeno-by', 'retronym']"
   ]
  },
  {
   "cell_type": "code",
   "execution_count": 30,
   "id": "8ba7d74c-d6bd-4b10-b771-7582bca0491b",
   "metadata": {},
   "outputs": [],
   "source": [
    "# Get all the developers' pull requests\n",
    "by_author = pulls[pulls.user.isin(authors)]"
   ]
  },
  {
   "cell_type": "code",
   "execution_count": 31,
   "id": "5bf8ddd8-a023-4dbb-a781-d714c8311384",
   "metadata": {},
   "outputs": [],
   "source": [
    "# Count the number of pull requests submitted each year\n",
    "counts = by_author.groupby(by=[\"user\", by_author.date.dt.year]).agg({'pid': 'count'}).reset_index()"
   ]
  },
  {
   "cell_type": "code",
   "execution_count": 32,
   "id": "d183d4ad-211d-42c0-8b7d-d79da348274d",
   "metadata": {},
   "outputs": [],
   "source": [
    "# Convert the table to a wide format\n",
    "counts_wide = counts.pivot_table(index='date', columns='user', values='pid', fill_value=0)"
   ]
  },
  {
   "cell_type": "code",
   "execution_count": 33,
   "id": "1d7973c5-5f30-4806-82cf-ef87fa194117",
   "metadata": {},
   "outputs": [
    {
     "name": "stderr",
     "output_type": "stream",
     "text": [
      "/var/folders/6y/8tyffygj5nd1h5xxqrc4f7tc0000gp/T/ipykernel_83944/3038984226.py:13: UserWarning: FixedFormatter should only be used together with FixedLocator\n",
      "  ax.set_xticklabels([str(ind) for ind in list(df.index)], rotation=90)\n"
     ]
    },
    {
     "data": {
      "image/png": "[encoded data removed]",
      "text/plain": [
       "<Figure size 576x432 with 1 Axes>"
      ]
     },
     "metadata": {
      "needs_background": "light"
     },
     "output_type": "display_data"
    }
   ],
   "source": [
    "# Plot the results\n",
    "plot_pull_requests(counts_wide, authors)"
   ]
  },
  {
   "cell_type": "markdown",
   "id": "a3c83a86-5a18-4d45-b3ce-6bc4b95a2bb7",
   "metadata": {},
   "source": [
    "## Visualizing the contribution of each developer"
   ]
  },
  {
   "cell_type": "code",
   "execution_count": 34,
   "id": "61e88081-609b-4c65-b09d-e93416e7619c",
   "metadata": {},
   "outputs": [],
   "source": [
    "# Select the pull requests submitted by the authors, from the `data` DataFrame\n",
    "by_author = data[data.user.isin(authors)]"
   ]
  },
  {
   "cell_type": "code",
   "execution_count": 35,
   "id": "e8d214a9-d38d-4447-b9d9-e939ac0a00d5",
   "metadata": {},
   "outputs": [],
   "source": [
    "# Select the pull requests that affect the file\n",
    "by_file = by_author[by_author[\"file\"] == file]"
   ]
  },
  {
   "cell_type": "code",
   "execution_count": 36,
   "id": "88f6ce93-32dd-44e4-9933-b0939518e59f",
   "metadata": {},
   "outputs": [],
   "source": [
    "# Group and count the number of PRs done by each user each year\n",
    "grouped = by_file.groupby(['user', by_file['date'].dt.year]).count()['pid'].reset_index()"
   ]
  },
  {
   "cell_type": "code",
   "execution_count": 37,
   "id": "e02ad22a-90d1-44b7-b5a7-de9c6c90a9a8",
   "metadata": {},
   "outputs": [],
   "source": [
    "# Transform the data into a wide format\n",
    "by_file_wide = grouped.pivot_table(index='date', columns='user', values='pid', fill_value=0)"
   ]
  },
  {
   "cell_type": "code",
   "execution_count": 38,
   "id": "ba1821ec-93ca-47ff-842e-e926b0ed49d7",
   "metadata": {},
   "outputs": [
    {
     "name": "stderr",
     "output_type": "stream",
     "text": [
      "/var/folders/6y/8tyffygj5nd1h5xxqrc4f7tc0000gp/T/ipykernel_83944/3038984226.py:13: UserWarning: FixedFormatter should only be used together with FixedLocator\n",
      "  ax.set_xticklabels([str(ind) for ind in list(df.index)], rotation=90)\n"
     ]
    },
    {
     "data": {
      "image/png": "[encoded data removed]",
      "text/plain": [
       "<Figure size 576x432 with 1 Axes>"
      ]
     },
     "metadata": {
      "needs_background": "light"
     },
     "output_type": "display_data"
    }
   ],
   "source": [
    "# Plot the results\n",
    "plot_pull_requests(by_file_wide, authors)"
   ]
  }
 ],
 "metadata": {
  "kernelspec": {
   "display_name": "Python 3 (ipykernel)",
   "language": "python",
   "name": "python3"
  },
  "language_info": {
   "codemirror_mode": {
    "name": "ipython",
    "version": 3
   },
   "file_extension": ".py",
   "mimetype": "text/x-python",
   "name": "python",
   "nbconvert_exporter": "python",
   "pygments_lexer": "ipython3",
   "version": "3.8.2"
  }
 },
 "nbformat": 4,
 "nbformat_minor": 5
}
